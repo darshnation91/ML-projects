{
 "cells": [
  {
   "cell_type": "markdown",
   "id": "938d3cbd",
   "metadata": {},
   "source": [
    "# Mini Project"
   ]
  },
  {
   "cell_type": "code",
   "execution_count": 1,
   "id": "f0692690",
   "metadata": {},
   "outputs": [],
   "source": [
    "import re\n",
    "from datetime import datetime\n",
    "from datetime import date\n",
    "import sys\n"
   ]
  },
  {
   "cell_type": "code",
   "execution_count": 3,
   "id": "aeb879ec",
   "metadata": {},
   "outputs": [
    {
     "name": "stdout",
     "output_type": "stream",
     "text": [
      "Enter your nameDarsh\n",
      "Enter your addressPune\n",
      "Enter your phone number9273872734\n",
      "Enter your pan cardDCFGP2876H\n",
      "Enter your birth Date23\n",
      "Enter your birth Month10\n",
      "Enter your birth Year1999\n",
      "Enter your 10th marks86\n",
      "Enter your 12th marks63\n"
     ]
    }
   ],
   "source": [
    "name=input('Enter your name')\n",
    "address=input('Enter your address')\n",
    "phone=input('Enter your phone number')\n",
    "pan_card=input('Enter your pan card')\n",
    "\n",
    "#birthday Details\n",
    "b_day=int(input(\"Enter your birth Date\"))\n",
    "b_month=int(input('Enter your birth Month'))\n",
    "b_year=int(input('Enter your birth Year'))\n",
    "\n",
    "ssc_marks=int(input('Enter your 10th marks'))\n",
    "hsc_marks=int(input('Enter your 12th marks'))\n"
   ]
  },
  {
   "cell_type": "code",
   "execution_count": 5,
   "id": "9ac7ecc9",
   "metadata": {},
   "outputs": [
    {
     "data": {
      "text/plain": [
       "23"
      ]
     },
     "execution_count": 5,
     "metadata": {},
     "output_type": "execute_result"
    }
   ],
   "source": [
    "#birth date\n",
    "birth=date(year=b_year,month=b_month,day=b_day)\n",
    "todaysdate=datetime.now()\n",
    "age=todaysdate.year-birth.year\n",
    "age\n"
   ]
  },
  {
   "cell_type": "code",
   "execution_count": 6,
   "id": "e6ced76f",
   "metadata": {},
   "outputs": [
    {
     "data": {
      "text/plain": [
       "0"
      ]
     },
     "execution_count": 6,
     "metadata": {},
     "output_type": "execute_result"
    }
   ],
   "source": [
    "e=0\n",
    "\n",
    "def Info(name,address,phone,pan_card,ssc_marks,hsc_marks):\n",
    "    \n",
    "#name    \n",
    "    try:\n",
    "        if name.isalpha()==False:\n",
    "            e=1\n",
    "            raise Exception('name is not valid')\n",
    "    except:\n",
    "        print('Enter valid Name')\n",
    "        return e\n",
    "\n",
    "    \n",
    "#phone     \n",
    "    try:    \n",
    "        if phone.isdigit()==False:\n",
    "            e=1\n",
    "            raise Exception('phone is not valid')\n",
    "    except:\n",
    "        print('Enter valid Phone number')\n",
    "        return e\n",
    "   \n",
    "\n",
    "    try:\n",
    "        if len(phone)!=10:\n",
    "            e=1\n",
    "            raise Exception('phone is not valid')\n",
    "    except:\n",
    "        print('Enter valid Phone number')\n",
    "        return e\n",
    "    \n",
    "    \n",
    "#ssc marks    \n",
    "    try:\n",
    "        if ssc_marks<0 or ssc_marks>100:\n",
    "            raise Exception(\"Enter valid marks\")\n",
    "    except:\n",
    "        print('Enter valid 10th marks')\n",
    "\n",
    "        \n",
    "        \n",
    "#hsc marks\n",
    "    try:\n",
    "        if hsc_marks<0 or hsc_marks>100:\n",
    "            raise Exception(\"Enter valid marks\")\n",
    "    except:\n",
    "        print('Enter valid 12th marks')\n",
    "\n",
    "        \n",
    "        \n",
    "#pancard        \n",
    "    try:\n",
    "\n",
    "        if re.match('[A-Z]{5}[1-9]{4}[A-Z]{1}$',pan_card):\n",
    "            e=0\n",
    "            return e\n",
    "        else:\n",
    "            print('invalid Pan card number')\n",
    "    except:\n",
    "        print('Enter valid pan card number')\n",
    "        \n",
    "Info(name,address,phone,pan_card,ssc_marks,hsc_marks)\n",
    "\n",
    "#birth date\n",
    "\n"
   ]
  },
  {
   "cell_type": "code",
   "execution_count": null,
   "id": "28aa7a44",
   "metadata": {},
   "outputs": [],
   "source": []
  },
  {
   "cell_type": "code",
   "execution_count": 10,
   "id": "bbf46e7f",
   "metadata": {},
   "outputs": [
    {
     "name": "stdout",
     "output_type": "stream",
     "text": [
      "Enter your user id Darshan\n",
      "Enter your password dd777gosavi@\n",
      "Enter valid password\n"
     ]
    },
    {
     "data": {
      "text/plain": [
       "'2022-11-04 16:14:26'"
      ]
     },
     "execution_count": 10,
     "metadata": {},
     "output_type": "execute_result"
    }
   ],
   "source": [
    "login_id=input('Enter your user id ')\n",
    "password=input('Enter your password ')\n",
    "val=0\n",
    "def Password(password):\n",
    "    \n",
    "    cap=re.search('[A-Z]',password)\n",
    "    small=re.search('[a-z]',password)\n",
    "    num=re.search('[0-9]',password)\n",
    "    splc=re.search('[@,#,$]',password)\n",
    "    try:\n",
    "        if cap and small and num and splc:\n",
    "            val=0\n",
    "            #print('valid')\n",
    "            return val\n",
    "            \n",
    "        else:\n",
    "            val=1\n",
    "            raise Exception(\"not valid password\")        \n",
    "        \n",
    "    except:\n",
    "        print('Enter valid password')\n",
    "        return val\n",
    "    \n",
    "    try:\n",
    "        if len(password)>6 and len(password)<12:\n",
    "            val=0\n",
    "           # print('valid')\n",
    "            return val\n",
    "            \n",
    "        else:\n",
    "            val=1\n",
    "            raise Exception(\"not valid password\")        \n",
    "        \n",
    "    except:\n",
    "        print('Enter valid password')\n",
    "        return val\n",
    "\n",
    "Password(password)\n",
    "\n",
    "datetime\n",
    "now=datetime.now()\n",
    "formatted_date = now.strftime('%Y-%m-%d %H:%M:%S')\n",
    "formatted_date\n",
    "            "
   ]
  },
  {
   "cell_type": "code",
   "execution_count": 11,
   "id": "ca0dbec2",
   "metadata": {},
   "outputs": [],
   "source": [
    "import mysql.connector\n",
    "mydb=mysql.connector.connect(host=\"localhost\",database='pass',user=\"root\",password=\"dd777gosavi@\")\n",
    "c=mydb.cursor()"
   ]
  },
  {
   "cell_type": "code",
   "execution_count": 12,
   "id": "509bf475",
   "metadata": {},
   "outputs": [],
   "source": [
    "if e==0 and val==0:\n",
    "    \n",
    "    into=\"INSERT INTO info(name,address,ssc_marks,hsc_marks,Birth,pan_card,phone,Date,login_id,password) values(%s,%s,%s,%s,%s,%s,%s,%s,%s,%s)\"\n",
    "    values=(name,address,ssc_marks,hsc_marks,age,pan_card,phone,formatted_date,login_id,password)\n",
    "    c.execute(into,values)\n",
    "    mydb.commit()\n",
    "\n",
    "else:\n",
    "    pass"
   ]
  },
  {
   "cell_type": "code",
   "execution_count": 13,
   "id": "ad6d662e",
   "metadata": {},
   "outputs": [],
   "source": [
    "dic={}\n",
    "def studentinfo():\n",
    "    \n",
    "    if len(dic)==0:\n",
    "        \n",
    "        dic[1]=({\"name\":name,\"address\":address,\"phone number\":phone, \"pancardnumber\":pan_card, \"10_mark\":ssc_marks,\"12_mark\":hsc_marks,\"DOB\":birth})\n",
    "    else:\n",
    "        cnt=len(dic)+1\n",
    "        dic[cnt]=({\"name\":name,\"address\":address,\"phone number\":phone, \"pancardnumber\":pan_card, \"10_mark\":ssc_marks,\"12_mark\":hsc_marks,\"DOB\":birth})\n",
    "    return dic , "
   ]
  },
  {
   "cell_type": "code",
   "execution_count": 14,
   "id": "1489a004",
   "metadata": {},
   "outputs": [
    {
     "data": {
      "text/plain": [
       "({1: {'name': 'Darsh',\n",
       "   'address': 'Pune',\n",
       "   'phone number': '9273872734',\n",
       "   'pancardnumber': 'DCFGP2876H',\n",
       "   '10_mark': 86,\n",
       "   '12_mark': 63,\n",
       "   'DOB': datetime.date(1999, 10, 23)}},)"
      ]
     },
     "execution_count": 14,
     "metadata": {},
     "output_type": "execute_result"
    }
   ],
   "source": [
    "studentinfo()"
   ]
  },
  {
   "cell_type": "code",
   "execution_count": 15,
   "id": "5cd3e833",
   "metadata": {},
   "outputs": [
    {
     "data": {
      "text/plain": [
       "{'name': 'Darsh',\n",
       " 'address': 'Pune',\n",
       " 'phone number': '9273872734',\n",
       " 'pancardnumber': 'DCFGP2876H',\n",
       " '10_mark': 86,\n",
       " '12_mark': 63,\n",
       " 'DOB': datetime.date(1999, 10, 23)}"
      ]
     },
     "execution_count": 15,
     "metadata": {},
     "output_type": "execute_result"
    }
   ],
   "source": [
    "dic[1]"
   ]
  },
  {
   "cell_type": "code",
   "execution_count": null,
   "id": "01516a7f",
   "metadata": {},
   "outputs": [],
   "source": []
  },
  {
   "cell_type": "code",
   "execution_count": 16,
   "id": "806902b5",
   "metadata": {},
   "outputs": [],
   "source": [
    "def change_name(rollno,name):\n",
    "    dic[rollno].update({'name':name})\n",
    "def change_address(rollno,address):\n",
    "    dic[rollno].update({\"address\":address})\n",
    "def change_phoneno(rollno,ph):\n",
    "    dic[rollno].update({'phone number':ph})\n",
    "def change_DOB(rollno,DOB):\n",
    "    dic[rollno].update({'DOB':DOB})\n",
    "def change_10marks(rollno,ssc_mark):\n",
    "    dic[rollno].update({'10_mark':mark_10})\n",
    "def change_12marks(rollno,hsc_mark):\n",
    "    dic[rollno].update({'12_mark':mark_12})\n",
    "\n",
    "    \n",
    "            \n",
    "    "
   ]
  },
  {
   "cell_type": "code",
   "execution_count": 17,
   "id": "813c91bb",
   "metadata": {},
   "outputs": [],
   "source": [
    "def getdetails():\n",
    "    if e==0:\n",
    "        print(\"the name of student is \",name)\n",
    "        print(\"the address is\",address)\n",
    "        print(\"the phone no is\",phone)\n",
    "        print(\"pan card no is\",pan_card)\n",
    "        print(\"date of birth is \",format(birth))\n",
    "        print(\"the 10 th marks is \",format(ssc_marks))\n",
    "        print(\"the 12 th marks is \",format(hsc_marks))\n",
    "    else:\n",
    "        print(\"Give valid information\")\n",
    "    \n",
    "    \n"
   ]
  },
  {
   "cell_type": "code",
   "execution_count": 18,
   "id": "0f43b8fc",
   "metadata": {},
   "outputs": [
    {
     "name": "stdout",
     "output_type": "stream",
     "text": [
      "the name of student is  Darsh\n",
      "the address is Pune\n",
      "the phone no is 9273872734\n",
      "pan card no is DCFGP2876H\n",
      "date of birth is  1999-10-23\n",
      "the 10 th marks is  86\n",
      "the 12 th marks is  63\n"
     ]
    }
   ],
   "source": [
    "getdetails()"
   ]
  },
  {
   "cell_type": "code",
   "execution_count": 21,
   "id": "176f02aa",
   "metadata": {},
   "outputs": [],
   "source": [
    "change_address(1,'Nandurbar')"
   ]
  },
  {
   "cell_type": "code",
   "execution_count": 22,
   "id": "8abba101",
   "metadata": {},
   "outputs": [
    {
     "data": {
      "text/plain": [
       "{'name': 'Darsh',\n",
       " 'address': 'Nandurbar',\n",
       " 'phone number': '9273872734',\n",
       " 'pancardnumber': 'DCFGP2876H',\n",
       " '10_mark': 86,\n",
       " '12_mark': 63,\n",
       " 'DOB': datetime.date(1999, 10, 23)}"
      ]
     },
     "execution_count": 22,
     "metadata": {},
     "output_type": "execute_result"
    }
   ],
   "source": [
    "dic[1]"
   ]
  },
  {
   "cell_type": "code",
   "execution_count": null,
   "id": "3c97654d",
   "metadata": {},
   "outputs": [],
   "source": []
  },
  {
   "cell_type": "code",
   "execution_count": null,
   "id": "d499c1e4",
   "metadata": {},
   "outputs": [],
   "source": []
  }
 ],
 "metadata": {
  "kernelspec": {
   "display_name": "Python 3 (ipykernel)",
   "language": "python",
   "name": "python3"
  },
  "language_info": {
   "codemirror_mode": {
    "name": "ipython",
    "version": 3
   },
   "file_extension": ".py",
   "mimetype": "text/x-python",
   "name": "python",
   "nbconvert_exporter": "python",
   "pygments_lexer": "ipython3",
   "version": "3.9.12"
  }
 },
 "nbformat": 4,
 "nbformat_minor": 5
}
