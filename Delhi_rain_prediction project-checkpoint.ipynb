{
 "cells": [
  {
   "cell_type": "code",
   "execution_count": null,
   "id": "c0a2da81",
   "metadata": {
    "id": "c0a2da81"
   },
   "outputs": [],
   "source": [
    "## import libraries\n",
    "import numpy as np       \n",
    "import pandas as pd          ## for data preprocessing\n",
    "import matplotlib.pyplot as plt   # for visualization\n",
    "import warnings\n",
    "warnings.filterwarnings('ignore')"
   ]
  },
  {
   "cell_type": "code",
   "execution_count": null,
   "id": "0371f6b2",
   "metadata": {
    "id": "0371f6b2",
    "outputId": "b717b6a1-e76c-4f82-81f6-9080735e9f8e"
   },
   "outputs": [
    {
     "data": {
      "text/html": [
       "<div>\n",
       "<style scoped>\n",
       "    .dataframe tbody tr th:only-of-type {\n",
       "        vertical-align: middle;\n",
       "    }\n",
       "\n",
       "    .dataframe tbody tr th {\n",
       "        vertical-align: top;\n",
       "    }\n",
       "\n",
       "    .dataframe thead th {\n",
       "        text-align: right;\n",
       "    }\n",
       "</style>\n",
       "<table border=\"1\" class=\"dataframe\">\n",
       "  <thead>\n",
       "    <tr style=\"text-align: right;\">\n",
       "      <th></th>\n",
       "      <th>datetime_utc</th>\n",
       "      <th>_conds</th>\n",
       "      <th>_dewptm</th>\n",
       "      <th>_fog</th>\n",
       "      <th>_hail</th>\n",
       "      <th>_heatindexm</th>\n",
       "      <th>_hum</th>\n",
       "      <th>_precipm</th>\n",
       "      <th>_pressurem</th>\n",
       "      <th>_rain</th>\n",
       "      <th>_snow</th>\n",
       "      <th>_tempm</th>\n",
       "      <th>_thunder</th>\n",
       "      <th>_tornado</th>\n",
       "      <th>_vism</th>\n",
       "      <th>_wdird</th>\n",
       "      <th>_wdire</th>\n",
       "      <th>_wgustm</th>\n",
       "      <th>_windchillm</th>\n",
       "      <th>_wspdm</th>\n",
       "    </tr>\n",
       "  </thead>\n",
       "  <tbody>\n",
       "    <tr>\n",
       "      <th>0</th>\n",
       "      <td>19961101-11:00</td>\n",
       "      <td>Smoke</td>\n",
       "      <td>9.0</td>\n",
       "      <td>0</td>\n",
       "      <td>0</td>\n",
       "      <td>NaN</td>\n",
       "      <td>27.0</td>\n",
       "      <td>NaN</td>\n",
       "      <td>1010.0</td>\n",
       "      <td>0</td>\n",
       "      <td>0</td>\n",
       "      <td>30.0</td>\n",
       "      <td>0</td>\n",
       "      <td>0</td>\n",
       "      <td>5.0</td>\n",
       "      <td>280.0</td>\n",
       "      <td>West</td>\n",
       "      <td>NaN</td>\n",
       "      <td>NaN</td>\n",
       "      <td>7.4</td>\n",
       "    </tr>\n",
       "    <tr>\n",
       "      <th>1</th>\n",
       "      <td>19961101-12:00</td>\n",
       "      <td>Smoke</td>\n",
       "      <td>10.0</td>\n",
       "      <td>0</td>\n",
       "      <td>0</td>\n",
       "      <td>NaN</td>\n",
       "      <td>32.0</td>\n",
       "      <td>NaN</td>\n",
       "      <td>-9999.0</td>\n",
       "      <td>0</td>\n",
       "      <td>0</td>\n",
       "      <td>28.0</td>\n",
       "      <td>0</td>\n",
       "      <td>0</td>\n",
       "      <td>NaN</td>\n",
       "      <td>0.0</td>\n",
       "      <td>North</td>\n",
       "      <td>NaN</td>\n",
       "      <td>NaN</td>\n",
       "      <td>NaN</td>\n",
       "    </tr>\n",
       "    <tr>\n",
       "      <th>2</th>\n",
       "      <td>19961101-13:00</td>\n",
       "      <td>Smoke</td>\n",
       "      <td>11.0</td>\n",
       "      <td>0</td>\n",
       "      <td>0</td>\n",
       "      <td>NaN</td>\n",
       "      <td>44.0</td>\n",
       "      <td>NaN</td>\n",
       "      <td>-9999.0</td>\n",
       "      <td>0</td>\n",
       "      <td>0</td>\n",
       "      <td>24.0</td>\n",
       "      <td>0</td>\n",
       "      <td>0</td>\n",
       "      <td>NaN</td>\n",
       "      <td>0.0</td>\n",
       "      <td>North</td>\n",
       "      <td>NaN</td>\n",
       "      <td>NaN</td>\n",
       "      <td>NaN</td>\n",
       "    </tr>\n",
       "    <tr>\n",
       "      <th>3</th>\n",
       "      <td>19961101-14:00</td>\n",
       "      <td>Smoke</td>\n",
       "      <td>10.0</td>\n",
       "      <td>0</td>\n",
       "      <td>0</td>\n",
       "      <td>NaN</td>\n",
       "      <td>41.0</td>\n",
       "      <td>NaN</td>\n",
       "      <td>1010.0</td>\n",
       "      <td>0</td>\n",
       "      <td>0</td>\n",
       "      <td>24.0</td>\n",
       "      <td>0</td>\n",
       "      <td>0</td>\n",
       "      <td>2.0</td>\n",
       "      <td>0.0</td>\n",
       "      <td>North</td>\n",
       "      <td>NaN</td>\n",
       "      <td>NaN</td>\n",
       "      <td>NaN</td>\n",
       "    </tr>\n",
       "    <tr>\n",
       "      <th>4</th>\n",
       "      <td>19961101-16:00</td>\n",
       "      <td>Smoke</td>\n",
       "      <td>11.0</td>\n",
       "      <td>0</td>\n",
       "      <td>0</td>\n",
       "      <td>NaN</td>\n",
       "      <td>47.0</td>\n",
       "      <td>NaN</td>\n",
       "      <td>1011.0</td>\n",
       "      <td>0</td>\n",
       "      <td>0</td>\n",
       "      <td>23.0</td>\n",
       "      <td>0</td>\n",
       "      <td>0</td>\n",
       "      <td>1.2</td>\n",
       "      <td>0.0</td>\n",
       "      <td>North</td>\n",
       "      <td>NaN</td>\n",
       "      <td>NaN</td>\n",
       "      <td>0.0</td>\n",
       "    </tr>\n",
       "  </tbody>\n",
       "</table>\n",
       "</div>"
      ],
      "text/plain": [
       "     datetime_utc  _conds   _dewptm   _fog   _hail   _heatindexm   _hum  \\\n",
       "0  19961101-11:00   Smoke       9.0      0       0           NaN   27.0   \n",
       "1  19961101-12:00   Smoke      10.0      0       0           NaN   32.0   \n",
       "2  19961101-13:00   Smoke      11.0      0       0           NaN   44.0   \n",
       "3  19961101-14:00   Smoke      10.0      0       0           NaN   41.0   \n",
       "4  19961101-16:00   Smoke      11.0      0       0           NaN   47.0   \n",
       "\n",
       "    _precipm   _pressurem   _rain   _snow   _tempm   _thunder   _tornado  \\\n",
       "0        NaN       1010.0       0       0     30.0          0          0   \n",
       "1        NaN      -9999.0       0       0     28.0          0          0   \n",
       "2        NaN      -9999.0       0       0     24.0          0          0   \n",
       "3        NaN       1010.0       0       0     24.0          0          0   \n",
       "4        NaN       1011.0       0       0     23.0          0          0   \n",
       "\n",
       "    _vism   _wdird  _wdire   _wgustm   _windchillm   _wspdm  \n",
       "0     5.0    280.0    West       NaN           NaN      7.4  \n",
       "1     NaN      0.0   North       NaN           NaN      NaN  \n",
       "2     NaN      0.0   North       NaN           NaN      NaN  \n",
       "3     2.0      0.0   North       NaN           NaN      NaN  \n",
       "4     1.2      0.0   North       NaN           NaN      0.0  "
      ]
     },
     "execution_count": 2,
     "metadata": {},
     "output_type": "execute_result"
    }
   ],
   "source": [
    "## import the data\n",
    "data= pd.read_csv('testset.csv')\n",
    "data.head()     ## display the data."
   ]
  },
  {
   "cell_type": "code",
   "execution_count": null,
   "id": "71fb24fe",
   "metadata": {
    "id": "71fb24fe",
    "outputId": "3795111a-b45d-45f0-8609-37c3da505cfa"
   },
   "outputs": [
    {
     "name": "stdout",
     "output_type": "stream",
     "text": [
      "dimension of the data:  (100990, 20)\n",
      "\n",
      "\n",
      "<class 'pandas.core.frame.DataFrame'>\n",
      "RangeIndex: 100990 entries, 0 to 100989\n",
      "Data columns (total 20 columns):\n",
      " #   Column        Non-Null Count   Dtype  \n",
      "---  ------        --------------   -----  \n",
      " 0   datetime_utc  100990 non-null  object \n",
      " 1    _conds       100918 non-null  object \n",
      " 2    _dewptm      100369 non-null  float64\n",
      " 3    _fog         100990 non-null  int64  \n",
      " 4    _hail        100990 non-null  int64  \n",
      " 5    _heatindexm  29155 non-null   float64\n",
      " 6    _hum         100233 non-null  float64\n",
      " 7    _precipm     0 non-null       float64\n",
      " 8    _pressurem   100758 non-null  float64\n",
      " 9    _rain        100990 non-null  int64  \n",
      " 10   _snow        100990 non-null  int64  \n",
      " 11   _tempm       100317 non-null  float64\n",
      " 12   _thunder     100990 non-null  int64  \n",
      " 13   _tornado     100990 non-null  int64  \n",
      " 14   _vism        96562 non-null   float64\n",
      " 15   _wdird       86235 non-null   float64\n",
      " 16   _wdire       86235 non-null   object \n",
      " 17   _wgustm      1072 non-null    float64\n",
      " 18   _windchillm  579 non-null     float64\n",
      " 19   _wspdm       98632 non-null   float64\n",
      "dtypes: float64(11), int64(6), object(3)\n",
      "memory usage: 15.4+ MB\n",
      "None\n"
     ]
    }
   ],
   "source": [
    "print('dimension of the data: ',data.shape)\n",
    "print('\\n')\n",
    "print(data.info())"
   ]
  },
  {
   "cell_type": "code",
   "execution_count": null,
   "id": "69229f76",
   "metadata": {
    "id": "69229f76",
    "outputId": "a8935298-474b-4689-e2b0-42bcc976bc86"
   },
   "outputs": [
    {
     "data": {
      "text/plain": [
       "datetime_utc         0\n",
       " _conds             72\n",
       " _dewptm           621\n",
       " _fog                0\n",
       " _hail               0\n",
       " _heatindexm     71835\n",
       " _hum              757\n",
       " _precipm       100990\n",
       " _pressurem        232\n",
       " _rain               0\n",
       " _snow               0\n",
       " _tempm            673\n",
       " _thunder            0\n",
       " _tornado            0\n",
       " _vism            4428\n",
       " _wdird          14755\n",
       " _wdire          14755\n",
       " _wgustm         99918\n",
       " _windchillm    100411\n",
       " _wspdm           2358\n",
       "dtype: int64"
      ]
     },
     "execution_count": 4,
     "metadata": {},
     "output_type": "execute_result"
    }
   ],
   "source": [
    "## checking the number of missing values.\n",
    "data.isnull().sum()"
   ]
  },
  {
   "cell_type": "code",
   "execution_count": null,
   "id": "1e064c33",
   "metadata": {
    "id": "1e064c33",
    "outputId": "08a1447a-27a0-47e1-ee94-294609ee880f"
   },
   "outputs": [
    {
     "data": {
      "text/plain": [
       "datetime_utc    datetime64[ns]\n",
       " _conds                 object\n",
       " _dewptm               float64\n",
       " _fog                    int64\n",
       " _hail                   int64\n",
       " _heatindexm           float64\n",
       " _hum                  float64\n",
       " _precipm              float64\n",
       " _pressurem            float64\n",
       " _rain                   int64\n",
       " _snow                   int64\n",
       " _tempm                float64\n",
       " _thunder                int64\n",
       " _tornado                int64\n",
       " _vism                 float64\n",
       " _wdird                float64\n",
       " _wdire                 object\n",
       " _wgustm               float64\n",
       " _windchillm           float64\n",
       " _wspdm                float64\n",
       "dtype: object"
      ]
     },
     "execution_count": 5,
     "metadata": {},
     "output_type": "execute_result"
    }
   ],
   "source": [
    "data[\"datetime_utc\"]=pd.to_datetime(data[\"datetime_utc\"],format=\"%Y%m%d-%H:%M\")\n",
    "data.dtypes"
   ]
  },
  {
   "cell_type": "code",
   "execution_count": null,
   "id": "6245c0bb",
   "metadata": {
    "id": "6245c0bb",
    "outputId": "c45cf421-da93-4354-8a52-12342b49f538"
   },
   "outputs": [
    {
     "data": {
      "text/html": [
       "<div>\n",
       "<style scoped>\n",
       "    .dataframe tbody tr th:only-of-type {\n",
       "        vertical-align: middle;\n",
       "    }\n",
       "\n",
       "    .dataframe tbody tr th {\n",
       "        vertical-align: top;\n",
       "    }\n",
       "\n",
       "    .dataframe thead th {\n",
       "        text-align: right;\n",
       "    }\n",
       "</style>\n",
       "<table border=\"1\" class=\"dataframe\">\n",
       "  <thead>\n",
       "    <tr style=\"text-align: right;\">\n",
       "      <th></th>\n",
       "      <th>datetime_utc</th>\n",
       "      <th>_conds</th>\n",
       "      <th>_dewptm</th>\n",
       "      <th>_fog</th>\n",
       "      <th>_hail</th>\n",
       "      <th>_heatindexm</th>\n",
       "      <th>_hum</th>\n",
       "      <th>_precipm</th>\n",
       "      <th>_pressurem</th>\n",
       "      <th>_rain</th>\n",
       "      <th>...</th>\n",
       "      <th>_thunder</th>\n",
       "      <th>_tornado</th>\n",
       "      <th>_vism</th>\n",
       "      <th>_wdird</th>\n",
       "      <th>_wdire</th>\n",
       "      <th>_wgustm</th>\n",
       "      <th>_windchillm</th>\n",
       "      <th>_wspdm</th>\n",
       "      <th>time</th>\n",
       "      <th>date</th>\n",
       "    </tr>\n",
       "  </thead>\n",
       "  <tbody>\n",
       "    <tr>\n",
       "      <th>0</th>\n",
       "      <td>1996-11-01 11:00:00</td>\n",
       "      <td>Smoke</td>\n",
       "      <td>9.0</td>\n",
       "      <td>0</td>\n",
       "      <td>0</td>\n",
       "      <td>NaN</td>\n",
       "      <td>27.0</td>\n",
       "      <td>NaN</td>\n",
       "      <td>1010.0</td>\n",
       "      <td>0</td>\n",
       "      <td>...</td>\n",
       "      <td>0</td>\n",
       "      <td>0</td>\n",
       "      <td>5.0</td>\n",
       "      <td>280.0</td>\n",
       "      <td>West</td>\n",
       "      <td>NaN</td>\n",
       "      <td>NaN</td>\n",
       "      <td>7.4</td>\n",
       "      <td>11:00:00</td>\n",
       "      <td>1996-11-01</td>\n",
       "    </tr>\n",
       "  </tbody>\n",
       "</table>\n",
       "<p>1 rows × 22 columns</p>\n",
       "</div>"
      ],
      "text/plain": [
       "         datetime_utc  _conds   _dewptm   _fog   _hail   _heatindexm   _hum  \\\n",
       "0 1996-11-01 11:00:00   Smoke       9.0      0       0           NaN   27.0   \n",
       "\n",
       "    _precipm   _pressurem   _rain  ...   _thunder   _tornado   _vism   _wdird  \\\n",
       "0        NaN       1010.0       0  ...          0          0     5.0    280.0   \n",
       "\n",
       "    _wdire   _wgustm  _windchillm   _wspdm      time        date  \n",
       "0     West       NaN          NaN      7.4  11:00:00  1996-11-01  \n",
       "\n",
       "[1 rows x 22 columns]"
      ]
     },
     "execution_count": 6,
     "metadata": {},
     "output_type": "execute_result"
    }
   ],
   "source": [
    "data['time'],data['date']= data['datetime_utc'].apply(lambda x:x.time()), data['datetime_utc'].apply(lambda x:x.date())\n",
    "data.head(1)"
   ]
  },
  {
   "cell_type": "code",
   "execution_count": null,
   "id": "89893557",
   "metadata": {
    "id": "89893557",
    "outputId": "b7258f4c-4e0c-43b4-926d-efcf1db95b22"
   },
   "outputs": [
    {
     "data": {
      "text/html": [
       "<div>\n",
       "<style scoped>\n",
       "    .dataframe tbody tr th:only-of-type {\n",
       "        vertical-align: middle;\n",
       "    }\n",
       "\n",
       "    .dataframe tbody tr th {\n",
       "        vertical-align: top;\n",
       "    }\n",
       "\n",
       "    .dataframe thead th {\n",
       "        text-align: right;\n",
       "    }\n",
       "</style>\n",
       "<table border=\"1\" class=\"dataframe\">\n",
       "  <thead>\n",
       "    <tr style=\"text-align: right;\">\n",
       "      <th></th>\n",
       "      <th>_conds</th>\n",
       "      <th>_dewptm</th>\n",
       "      <th>_fog</th>\n",
       "      <th>_hail</th>\n",
       "      <th>_rain</th>\n",
       "      <th>_snow</th>\n",
       "      <th>_tempm</th>\n",
       "      <th>date</th>\n",
       "    </tr>\n",
       "  </thead>\n",
       "  <tbody>\n",
       "    <tr>\n",
       "      <th>0</th>\n",
       "      <td>Smoke</td>\n",
       "      <td>9.0</td>\n",
       "      <td>0</td>\n",
       "      <td>0</td>\n",
       "      <td>0</td>\n",
       "      <td>0</td>\n",
       "      <td>30.0</td>\n",
       "      <td>1996-11-01</td>\n",
       "    </tr>\n",
       "    <tr>\n",
       "      <th>1</th>\n",
       "      <td>Smoke</td>\n",
       "      <td>10.0</td>\n",
       "      <td>0</td>\n",
       "      <td>0</td>\n",
       "      <td>0</td>\n",
       "      <td>0</td>\n",
       "      <td>28.0</td>\n",
       "      <td>1996-11-01</td>\n",
       "    </tr>\n",
       "    <tr>\n",
       "      <th>2</th>\n",
       "      <td>Smoke</td>\n",
       "      <td>11.0</td>\n",
       "      <td>0</td>\n",
       "      <td>0</td>\n",
       "      <td>0</td>\n",
       "      <td>0</td>\n",
       "      <td>24.0</td>\n",
       "      <td>1996-11-01</td>\n",
       "    </tr>\n",
       "    <tr>\n",
       "      <th>3</th>\n",
       "      <td>Smoke</td>\n",
       "      <td>10.0</td>\n",
       "      <td>0</td>\n",
       "      <td>0</td>\n",
       "      <td>0</td>\n",
       "      <td>0</td>\n",
       "      <td>24.0</td>\n",
       "      <td>1996-11-01</td>\n",
       "    </tr>\n",
       "    <tr>\n",
       "      <th>4</th>\n",
       "      <td>Smoke</td>\n",
       "      <td>11.0</td>\n",
       "      <td>0</td>\n",
       "      <td>0</td>\n",
       "      <td>0</td>\n",
       "      <td>0</td>\n",
       "      <td>23.0</td>\n",
       "      <td>1996-11-01</td>\n",
       "    </tr>\n",
       "  </tbody>\n",
       "</table>\n",
       "</div>"
      ],
      "text/plain": [
       "   _conds   _dewptm   _fog   _hail   _rain   _snow   _tempm        date\n",
       "0   Smoke       9.0      0       0       0       0     30.0  1996-11-01\n",
       "1   Smoke      10.0      0       0       0       0     28.0  1996-11-01\n",
       "2   Smoke      11.0      0       0       0       0     24.0  1996-11-01\n",
       "3   Smoke      10.0      0       0       0       0     24.0  1996-11-01\n",
       "4   Smoke      11.0      0       0       0       0     23.0  1996-11-01"
      ]
     },
     "execution_count": 7,
     "metadata": {},
     "output_type": "execute_result"
    }
   ],
   "source": [
    "data.drop([' _precipm',' _pressurem',' _heatindexm',' _hum',' _thunder',' _tornado',' _vism',' _wdird',' _wdire',' _wgustm',' _windchillm',' _wspdm','datetime_utc','time'],axis='columns',inplace=True)\n",
    "data.head()"
   ]
  },
  {
   "cell_type": "code",
   "execution_count": null,
   "id": "00068193",
   "metadata": {
    "id": "00068193",
    "outputId": "d4399f44-eca7-405e-9bc8-89b42586adb1"
   },
   "outputs": [
    {
     "name": "stdout",
     "output_type": "stream",
     "text": [
      " _conds      72\n",
      " _dewptm    621\n",
      " _fog         0\n",
      " _hail        0\n",
      " _rain        0\n",
      " _snow        0\n",
      " _tempm     673\n",
      "date          0\n",
      "dtype: int64\n",
      "(100990, 8)\n"
     ]
    }
   ],
   "source": [
    "print(data.isnull().sum())\n",
    "print(data.shape)"
   ]
  },
  {
   "cell_type": "code",
   "execution_count": null,
   "id": "4437c915",
   "metadata": {
    "id": "4437c915",
    "outputId": "13e35eff-2c6c-49a6-a554-7175bc28d239"
   },
   "outputs": [
    {
     "data": {
      "text/plain": [
       " _conds             object\n",
       " _dewptm           float64\n",
       " _fog                int64\n",
       " _hail               int64\n",
       " _rain               int64\n",
       " _snow               int64\n",
       " _tempm            float64\n",
       "date        datetime64[ns]\n",
       "dtype: object"
      ]
     },
     "execution_count": 9,
     "metadata": {},
     "output_type": "execute_result"
    }
   ],
   "source": [
    "data[\"date\"]=pd.to_datetime(data[\"date\"])\n",
    "data.dtypes"
   ]
  },
  {
   "cell_type": "code",
   "execution_count": null,
   "id": "0667a5e5",
   "metadata": {
    "id": "0667a5e5",
    "outputId": "62979961-26e8-4af6-b4d1-b159348e6eb1"
   },
   "outputs": [
    {
     "data": {
      "text/plain": [
       "2004-05    1401\n",
       "2003-10    1392\n",
       "2003-08    1372\n",
       "2003-12    1358\n",
       "2004-03    1353\n",
       "           ... \n",
       "2013-01     183\n",
       "2012-10     183\n",
       "1999-04     178\n",
       "2000-05       1\n",
       "2000-04       1\n",
       "Freq: M, Name: month, Length: 245, dtype: int64"
      ]
     },
     "execution_count": 10,
     "metadata": {},
     "output_type": "execute_result"
    }
   ],
   "source": [
    "import datetime as dt\n",
    "# let's impute the misisng values by the mean of the month\n",
    "\n",
    "data['month']=pd.to_datetime(data.date).dt.to_period('M')\n",
    "\n",
    "data.month.value_counts()"
   ]
  },
  {
   "cell_type": "code",
   "execution_count": null,
   "id": "e12a853a",
   "metadata": {
    "id": "e12a853a",
    "outputId": "e4436532-c9e4-45b7-977a-1bb606cf523c"
   },
   "outputs": [
    {
     "data": {
      "text/html": [
       "<div>\n",
       "<style scoped>\n",
       "    .dataframe tbody tr th:only-of-type {\n",
       "        vertical-align: middle;\n",
       "    }\n",
       "\n",
       "    .dataframe tbody tr th {\n",
       "        vertical-align: top;\n",
       "    }\n",
       "\n",
       "    .dataframe thead th {\n",
       "        text-align: right;\n",
       "    }\n",
       "</style>\n",
       "<table border=\"1\" class=\"dataframe\">\n",
       "  <thead>\n",
       "    <tr style=\"text-align: right;\">\n",
       "      <th></th>\n",
       "      <th>_conds</th>\n",
       "      <th>_dewptm</th>\n",
       "      <th>_fog</th>\n",
       "      <th>_hail</th>\n",
       "      <th>_rain</th>\n",
       "      <th>_snow</th>\n",
       "      <th>_tempm</th>\n",
       "      <th>date</th>\n",
       "      <th>month</th>\n",
       "    </tr>\n",
       "  </thead>\n",
       "  <tbody>\n",
       "    <tr>\n",
       "      <th>0</th>\n",
       "      <td>Smoke</td>\n",
       "      <td>9.0</td>\n",
       "      <td>0</td>\n",
       "      <td>0</td>\n",
       "      <td>0</td>\n",
       "      <td>0</td>\n",
       "      <td>30.0</td>\n",
       "      <td>1996-11-01</td>\n",
       "      <td>1996-11</td>\n",
       "    </tr>\n",
       "  </tbody>\n",
       "</table>\n",
       "</div>"
      ],
      "text/plain": [
       "   _conds   _dewptm   _fog   _hail   _rain   _snow   _tempm       date  \\\n",
       "0   Smoke       9.0      0       0       0       0     30.0 1996-11-01   \n",
       "\n",
       "     month  \n",
       "0  1996-11  "
      ]
     },
     "execution_count": 11,
     "metadata": {},
     "output_type": "execute_result"
    }
   ],
   "source": [
    "data.head(1)"
   ]
  },
  {
   "cell_type": "code",
   "execution_count": null,
   "id": "7344a6bd",
   "metadata": {
    "id": "7344a6bd",
    "outputId": "aa0107e9-8cbf-4afa-82b2-1e3358ae87b8"
   },
   "outputs": [
    {
     "data": {
      "text/html": [
       "<div>\n",
       "<style scoped>\n",
       "    .dataframe tbody tr th:only-of-type {\n",
       "        vertical-align: middle;\n",
       "    }\n",
       "\n",
       "    .dataframe tbody tr th {\n",
       "        vertical-align: top;\n",
       "    }\n",
       "\n",
       "    .dataframe thead th {\n",
       "        text-align: right;\n",
       "    }\n",
       "</style>\n",
       "<table border=\"1\" class=\"dataframe\">\n",
       "  <thead>\n",
       "    <tr style=\"text-align: right;\">\n",
       "      <th></th>\n",
       "      <th>_conds</th>\n",
       "      <th>_dewptm</th>\n",
       "      <th>_fog</th>\n",
       "      <th>_hail</th>\n",
       "      <th>_rain</th>\n",
       "      <th>_snow</th>\n",
       "      <th>_tempm</th>\n",
       "      <th>date</th>\n",
       "      <th>month</th>\n",
       "      <th>_</th>\n",
       "    </tr>\n",
       "  </thead>\n",
       "  <tbody>\n",
       "    <tr>\n",
       "      <th>0</th>\n",
       "      <td>Smoke</td>\n",
       "      <td>9.0</td>\n",
       "      <td>0</td>\n",
       "      <td>0</td>\n",
       "      <td>0</td>\n",
       "      <td>0</td>\n",
       "      <td>30.0</td>\n",
       "      <td>1996-11-01</td>\n",
       "      <td>1996-11</td>\n",
       "      <td>NaN</td>\n",
       "    </tr>\n",
       "    <tr>\n",
       "      <th>1</th>\n",
       "      <td>Smoke</td>\n",
       "      <td>10.0</td>\n",
       "      <td>0</td>\n",
       "      <td>0</td>\n",
       "      <td>0</td>\n",
       "      <td>0</td>\n",
       "      <td>28.0</td>\n",
       "      <td>1996-11-01</td>\n",
       "      <td>1996-11</td>\n",
       "      <td>NaN</td>\n",
       "    </tr>\n",
       "  </tbody>\n",
       "</table>\n",
       "</div>"
      ],
      "text/plain": [
       "   _conds   _dewptm   _fog   _hail   _rain   _snow   _tempm       date  \\\n",
       "0   Smoke       9.0      0       0       0       0     30.0 1996-11-01   \n",
       "1   Smoke      10.0      0       0       0       0     28.0 1996-11-01   \n",
       "\n",
       "     month   _  \n",
       "0  1996-11 NaN  \n",
       "1  1996-11 NaN  "
      ]
     },
     "execution_count": 12,
     "metadata": {},
     "output_type": "execute_result"
    }
   ],
   "source": [
    "aa=data.iloc[:,4].name\n",
    "ac=data.groupby(by='month')[aa].mean()\n",
    "ab=data[' _rain'].isna()\n",
    "data.loc[ab,[' _']]=data.loc[ab,'month'].apply(lambda x:ac[x])\n",
    "data.head(2)"
   ]
  },
  {
   "cell_type": "code",
   "execution_count": null,
   "id": "e342eee5",
   "metadata": {
    "id": "e342eee5",
    "outputId": "786bc4c1-e726-4f17-b262-a8b0fbc1966f"
   },
   "outputs": [
    {
     "data": {
      "text/html": [
       "<div>\n",
       "<style scoped>\n",
       "    .dataframe tbody tr th:only-of-type {\n",
       "        vertical-align: middle;\n",
       "    }\n",
       "\n",
       "    .dataframe tbody tr th {\n",
       "        vertical-align: top;\n",
       "    }\n",
       "\n",
       "    .dataframe thead th {\n",
       "        text-align: right;\n",
       "    }\n",
       "</style>\n",
       "<table border=\"1\" class=\"dataframe\">\n",
       "  <thead>\n",
       "    <tr style=\"text-align: right;\">\n",
       "      <th></th>\n",
       "      <th>rain</th>\n",
       "    </tr>\n",
       "    <tr>\n",
       "      <th>date</th>\n",
       "      <th></th>\n",
       "    </tr>\n",
       "  </thead>\n",
       "  <tbody>\n",
       "    <tr>\n",
       "      <th>1996-11-01</th>\n",
       "      <td>0</td>\n",
       "    </tr>\n",
       "    <tr>\n",
       "      <th>1996-11-01</th>\n",
       "      <td>0</td>\n",
       "    </tr>\n",
       "    <tr>\n",
       "      <th>1996-11-01</th>\n",
       "      <td>0</td>\n",
       "    </tr>\n",
       "    <tr>\n",
       "      <th>1996-11-01</th>\n",
       "      <td>0</td>\n",
       "    </tr>\n",
       "    <tr>\n",
       "      <th>1996-11-01</th>\n",
       "      <td>0</td>\n",
       "    </tr>\n",
       "    <tr>\n",
       "      <th>...</th>\n",
       "      <td>...</td>\n",
       "    </tr>\n",
       "    <tr>\n",
       "      <th>2017-04-24</th>\n",
       "      <td>0</td>\n",
       "    </tr>\n",
       "    <tr>\n",
       "      <th>2017-04-24</th>\n",
       "      <td>0</td>\n",
       "    </tr>\n",
       "    <tr>\n",
       "      <th>2017-04-24</th>\n",
       "      <td>0</td>\n",
       "    </tr>\n",
       "    <tr>\n",
       "      <th>2017-04-24</th>\n",
       "      <td>0</td>\n",
       "    </tr>\n",
       "    <tr>\n",
       "      <th>2017-04-24</th>\n",
       "      <td>0</td>\n",
       "    </tr>\n",
       "  </tbody>\n",
       "</table>\n",
       "<p>100990 rows × 1 columns</p>\n",
       "</div>"
      ],
      "text/plain": [
       "            rain\n",
       "date            \n",
       "1996-11-01     0\n",
       "1996-11-01     0\n",
       "1996-11-01     0\n",
       "1996-11-01     0\n",
       "1996-11-01     0\n",
       "...          ...\n",
       "2017-04-24     0\n",
       "2017-04-24     0\n",
       "2017-04-24     0\n",
       "2017-04-24     0\n",
       "2017-04-24     0\n",
       "\n",
       "[100990 rows x 1 columns]"
      ]
     },
     "execution_count": 13,
     "metadata": {},
     "output_type": "execute_result"
    }
   ],
   "source": [
    "df_rain=pd.DataFrame(list(data[' _rain']),index=data.date,columns=['rain'])\n",
    "df_rain"
   ]
  },
  {
   "cell_type": "code",
   "execution_count": null,
   "id": "beffb47c",
   "metadata": {
    "id": "beffb47c",
    "outputId": "1f3ade62-8e2d-423f-8c45-a6cfadfd27fa"
   },
   "outputs": [
    {
     "name": "stdout",
     "output_type": "stream",
     "text": [
      "(95940, 1)\n"
     ]
    },
    {
     "data": {
      "text/html": [
       "<div>\n",
       "<style scoped>\n",
       "    .dataframe tbody tr th:only-of-type {\n",
       "        vertical-align: middle;\n",
       "    }\n",
       "\n",
       "    .dataframe tbody tr th {\n",
       "        vertical-align: top;\n",
       "    }\n",
       "\n",
       "    .dataframe thead th {\n",
       "        text-align: right;\n",
       "    }\n",
       "</style>\n",
       "<table border=\"1\" class=\"dataframe\">\n",
       "  <thead>\n",
       "    <tr style=\"text-align: right;\">\n",
       "      <th></th>\n",
       "      <th>rain</th>\n",
       "    </tr>\n",
       "    <tr>\n",
       "      <th>date</th>\n",
       "      <th></th>\n",
       "    </tr>\n",
       "  </thead>\n",
       "  <tbody>\n",
       "    <tr>\n",
       "      <th>2016-02-15</th>\n",
       "      <td>0</td>\n",
       "    </tr>\n",
       "    <tr>\n",
       "      <th>2013-10-05</th>\n",
       "      <td>0</td>\n",
       "    </tr>\n",
       "    <tr>\n",
       "      <th>2011-09-09</th>\n",
       "      <td>1</td>\n",
       "    </tr>\n",
       "    <tr>\n",
       "      <th>2011-04-19</th>\n",
       "      <td>0</td>\n",
       "    </tr>\n",
       "    <tr>\n",
       "      <th>2007-08-25</th>\n",
       "      <td>0</td>\n",
       "    </tr>\n",
       "  </tbody>\n",
       "</table>\n",
       "</div>"
      ],
      "text/plain": [
       "            rain\n",
       "date            \n",
       "2016-02-15     0\n",
       "2013-10-05     0\n",
       "2011-09-09     1\n",
       "2011-04-19     0\n",
       "2007-08-25     0"
      ]
     },
     "execution_count": 14,
     "metadata": {},
     "output_type": "execute_result"
    }
   ],
   "source": [
    "df = df_rain.sample(frac =.95)\n",
    "\n",
    "print(df.shape)\n",
    "df.head()"
   ]
  },
  {
   "cell_type": "code",
   "execution_count": null,
   "id": "0156592d",
   "metadata": {
    "id": "0156592d",
    "outputId": "4634f494-393f-45f4-e343-bd8e52a6b566",
    "scrolled": true
   },
   "outputs": [
    {
     "name": "stdout",
     "output_type": "stream",
     "text": [
      "rain    0\n",
      "dtype: int64\n"
     ]
    },
    {
     "data": {
      "text/plain": [
       "(22, 1)"
      ]
     },
     "execution_count": 15,
     "metadata": {},
     "output_type": "execute_result"
    }
   ],
   "source": [
    "df_r=df_rain.resample('y').mean()\n",
    "print(df_r.isnull().sum())\n",
    "\n",
    "df_r.shape"
   ]
  },
  {
   "cell_type": "code",
   "execution_count": null,
   "id": "e3f1d785",
   "metadata": {
    "id": "e3f1d785",
    "outputId": "d64ad7e9-1b86-445c-e40f-a03de5beec6c"
   },
   "outputs": [
    {
     "data": {
      "image/png": "[encoded data removed]",
      "text/plain": [
       "<Figure size 864x720 with 4 Axes>"
      ]
     },
     "metadata": {
      "needs_background": "light"
     },
     "output_type": "display_data"
    }
   ],
   "source": [
    "from statsmodels.tsa.seasonal import seasonal_decompose\n",
    "from statsmodels.tsa.arima_model import ARIMA\n",
    "from pylab import rcParams\n",
    "rcParams['figure.figsize']=12,10\n",
    "decomposition=seasonal_decompose(df_r['rain'],model='additive')\n",
    "fig=decomposition.plot()\n",
    "plt.tight_layout()\n",
    "plt.show()"
   ]
  },
  {
   "cell_type": "code",
   "execution_count": null,
   "id": "be7e1f54",
   "metadata": {
    "id": "be7e1f54",
    "outputId": "11d88bbc-2bce-4fb3-e7b0-4bd5fa28c043"
   },
   "outputs": [
    {
     "name": "stdout",
     "output_type": "stream",
     "text": [
      "Test Statistic                  -309.728088\n",
      "p-value                            0.000000\n",
      "#Lags Used                         0.000000\n",
      "Number of Observations Used    95939.000000\n",
      "Critical Value (1%)               -3.430418\n",
      "Critical Value (5%)               -2.861570\n",
      "Critical Value (10%)              -2.566786\n",
      "dtype: float64\n"
     ]
    }
   ],
   "source": [
    "from statsmodels.tsa.stattools import adfuller, acf,pacf\n",
    "data_test = adfuller(df['rain'], autolag='AIC')\n",
    "\n",
    "dfoutput = pd.Series(data_test[0:4], index=['Test Statistic','p-value','#Lags Used','Number of Observations Used'])\n",
    "for key,value in data_test[4].items():\n",
    "    dfoutput['Critical Value (%s)'%key] = value\n",
    "    \n",
    "print(dfoutput)"
   ]
  },
  {
   "cell_type": "code",
   "execution_count": null,
   "id": "e621951f",
   "metadata": {
    "id": "e621951f"
   },
   "outputs": [],
   "source": [
    "df['12_month-SMA'] = df['rain'].rolling(window=12).mean()\n",
    "df['12_month-WMA'] = df['rain'].ewm(span=12,adjust=False).mean()"
   ]
  },
  {
   "cell_type": "code",
   "execution_count": null,
   "id": "b686ef90",
   "metadata": {
    "id": "b686ef90",
    "outputId": "8669173e-f305-4b7b-a2b8-2c9673c780e5"
   },
   "outputs": [
    {
     "data": {
      "text/html": [
       "<div>\n",
       "<style scoped>\n",
       "    .dataframe tbody tr th:only-of-type {\n",
       "        vertical-align: middle;\n",
       "    }\n",
       "\n",
       "    .dataframe tbody tr th {\n",
       "        vertical-align: top;\n",
       "    }\n",
       "\n",
       "    .dataframe thead th {\n",
       "        text-align: right;\n",
       "    }\n",
       "</style>\n",
       "<table border=\"1\" class=\"dataframe\">\n",
       "  <thead>\n",
       "    <tr style=\"text-align: right;\">\n",
       "      <th></th>\n",
       "      <th>rain</th>\n",
       "      <th>12_month-SMA</th>\n",
       "      <th>12_month-WMA</th>\n",
       "    </tr>\n",
       "    <tr>\n",
       "      <th>date</th>\n",
       "      <th></th>\n",
       "      <th></th>\n",
       "      <th></th>\n",
       "    </tr>\n",
       "  </thead>\n",
       "  <tbody>\n",
       "    <tr>\n",
       "      <th>2016-02-15</th>\n",
       "      <td>0</td>\n",
       "      <td>NaN</td>\n",
       "      <td>0.0</td>\n",
       "    </tr>\n",
       "    <tr>\n",
       "      <th>2013-10-05</th>\n",
       "      <td>0</td>\n",
       "      <td>NaN</td>\n",
       "      <td>0.0</td>\n",
       "    </tr>\n",
       "  </tbody>\n",
       "</table>\n",
       "</div>"
      ],
      "text/plain": [
       "            rain  12_month-SMA  12_month-WMA\n",
       "date                                        \n",
       "2016-02-15     0           NaN           0.0\n",
       "2013-10-05     0           NaN           0.0"
      ]
     },
     "execution_count": 19,
     "metadata": {},
     "output_type": "execute_result"
    }
   ],
   "source": [
    "df.head(2)"
   ]
  },
  {
   "cell_type": "code",
   "execution_count": null,
   "id": "699c69ef",
   "metadata": {
    "id": "699c69ef",
    "outputId": "4713e617-db5c-451d-e2d8-0a9541ccd1d5"
   },
   "outputs": [
    {
     "data": {
      "image/png": "[encoded data removed]",
      "text/plain": [
       "<Figure size 576x432 with 2 Axes>"
      ]
     },
     "metadata": {
      "needs_background": "light"
     },
     "output_type": "display_data"
    }
   ],
   "source": [
    "from statsmodels.graphics.tsaplots import plot_acf, plot_pacf\n",
    "fig, (ax1, ax2) = plt.subplots(2,1,figsize=(8,6))\n",
    "\n",
    "# Plot the ACF on ax1\n",
    "plot_acf(df['rain'], lags=50,alpha=0.05, zero=False, ax=ax1)\n",
    "\n",
    "# Plot the PACF on ax2\n",
    "plot_pacf(df['rain'], lags=50,alpha=0.05, zero=False, ax=ax2)\n",
    "plt.show()"
   ]
  },
  {
   "cell_type": "code",
   "execution_count": null,
   "id": "7830b3d0",
   "metadata": {
    "id": "7830b3d0"
   },
   "outputs": [],
   "source": [
    "#!pip install pmdarima"
   ]
  },
  {
   "cell_type": "code",
   "execution_count": null,
   "id": "d139fc77",
   "metadata": {
    "id": "d139fc77",
    "outputId": "35ce83ed-4636-4612-c101-ebb7fe190bf2"
   },
   "outputs": [
    {
     "name": "stdout",
     "output_type": "stream",
     "text": [
      "Performing stepwise search to minimize aic\n",
      " ARIMA(2,0,2)(0,0,0)[0] intercept   : AIC=-79631.763, Time=34.58 sec\n",
      " ARIMA(0,0,0)(0,0,0)[0] intercept   : AIC=-79639.358, Time=17.11 sec\n",
      " ARIMA(1,0,0)(0,0,0)[0] intercept   : AIC=-79637.358, Time=7.81 sec\n",
      " ARIMA(0,0,1)(0,0,0)[0] intercept   : AIC=-79637.358, Time=28.59 sec\n",
      " ARIMA(0,0,0)(0,0,0)[0]             : AIC=-77092.806, Time=6.39 sec\n",
      " ARIMA(1,0,1)(0,0,0)[0] intercept   : AIC=-79635.357, Time=15.65 sec\n",
      "\n",
      "Best model:  ARIMA(0,0,0)(0,0,0)[0] intercept\n",
      "Total fit time: 123.935 seconds\n"
     ]
    },
    {
     "data": {
      "text/html": [
       "<table class=\"simpletable\">\n",
       "<caption>SARIMAX Results</caption>\n",
       "<tr>\n",
       "  <th>Dep. Variable:</th>           <td>y</td>        <th>  No. Observations:  </th>    <td>95940</td>  \n",
       "</tr>\n",
       "<tr>\n",
       "  <th>Model:</th>                <td>SARIMAX</td>     <th>  Log Likelihood     </th>  <td>39821.679</td>\n",
       "</tr>\n",
       "<tr>\n",
       "  <th>Date:</th>            <td>Sun, 26 Sep 2021</td> <th>  AIC                </th> <td>-79639.358</td>\n",
       "</tr>\n",
       "<tr>\n",
       "  <th>Time:</th>                <td>02:59:22</td>     <th>  BIC                </th> <td>-79620.415</td>\n",
       "</tr>\n",
       "<tr>\n",
       "  <th>Sample:</th>                  <td>0</td>        <th>  HQIC               </th> <td>-79633.598</td>\n",
       "</tr>\n",
       "<tr>\n",
       "  <th></th>                     <td> - 95940</td>     <th>                     </th>      <td> </td>    \n",
       "</tr>\n",
       "<tr>\n",
       "  <th>Covariance Type:</th>        <td>opg</td>       <th>                     </th>      <td> </td>    \n",
       "</tr>\n",
       "</table>\n",
       "<table class=\"simpletable\">\n",
       "<tr>\n",
       "      <td></td>         <th>coef</th>     <th>std err</th>      <th>z</th>      <th>P>|z|</th>  <th>[0.025</th>    <th>0.975]</th>  \n",
       "</tr>\n",
       "<tr>\n",
       "  <th>intercept</th> <td>    0.0262</td> <td> 1.49e-06</td> <td> 1.76e+04</td> <td> 0.000</td> <td>    0.026</td> <td>    0.026</td>\n",
       "</tr>\n",
       "<tr>\n",
       "  <th>sigma2</th>    <td>    0.0255</td> <td> 2.77e-05</td> <td>  921.170</td> <td> 0.000</td> <td>    0.025</td> <td>    0.026</td>\n",
       "</tr>\n",
       "</table>\n",
       "<table class=\"simpletable\">\n",
       "<tr>\n",
       "  <th>Ljung-Box (L1) (Q):</th>     <td>0.00</td> <th>  Jarque-Bera (JB):  </th> <td>4961748.56</td>\n",
       "</tr>\n",
       "<tr>\n",
       "  <th>Prob(Q):</th>                <td>0.99</td> <th>  Prob(JB):          </th>    <td>0.00</td>   \n",
       "</tr>\n",
       "<tr>\n",
       "  <th>Heteroskedasticity (H):</th> <td>1.04</td> <th>  Skew:              </th>    <td>5.93</td>   \n",
       "</tr>\n",
       "<tr>\n",
       "  <th>Prob(H) (two-sided):</th>    <td>0.00</td> <th>  Kurtosis:          </th>    <td>36.17</td>  \n",
       "</tr>\n",
       "</table><br/><br/>Warnings:<br/>[1] Covariance matrix calculated using the outer product of gradients (complex-step).<br/>[2] Covariance matrix is singular or near-singular, with condition number 1.39e+17. Standard errors may be unstable."
      ],
      "text/plain": [
       "<class 'statsmodels.iolib.summary.Summary'>\n",
       "\"\"\"\n",
       "                               SARIMAX Results                                \n",
       "==============================================================================\n",
       "Dep. Variable:                      y   No. Observations:                95940\n",
       "Model:                        SARIMAX   Log Likelihood               39821.679\n",
       "Date:                Sun, 26 Sep 2021   AIC                         -79639.358\n",
       "Time:                        02:59:22   BIC                         -79620.415\n",
       "Sample:                             0   HQIC                        -79633.598\n",
       "                              - 95940                                         \n",
       "Covariance Type:                  opg                                         \n",
       "==============================================================================\n",
       "                 coef    std err          z      P>|z|      [0.025      0.975]\n",
       "------------------------------------------------------------------------------\n",
       "intercept      0.0262   1.49e-06   1.76e+04      0.000       0.026       0.026\n",
       "sigma2         0.0255   2.77e-05    921.170      0.000       0.025       0.026\n",
       "===================================================================================\n",
       "Ljung-Box (L1) (Q):                   0.00   Jarque-Bera (JB):           4961748.56\n",
       "Prob(Q):                              0.99   Prob(JB):                         0.00\n",
       "Heteroskedasticity (H):               1.04   Skew:                             5.93\n",
       "Prob(H) (two-sided):                  0.00   Kurtosis:                        36.17\n",
       "===================================================================================\n",
       "\n",
       "Warnings:\n",
       "[1] Covariance matrix calculated using the outer product of gradients (complex-step).\n",
       "[2] Covariance matrix is singular or near-singular, with condition number 1.39e+17. Standard errors may be unstable.\n",
       "\"\"\""
      ]
     },
     "execution_count": 22,
     "metadata": {},
     "output_type": "execute_result"
    }
   ],
   "source": [
    "from pmdarima import auto_arima\n",
    "## Without Seasonality\n",
    "stepwise_fit = auto_arima(df['rain'],\n",
    "                          seasonal=True,\n",
    "                          d=None, trace=True,\n",
    "                          error_action='ignore',   # we don't want to know if an order does not work\n",
    "                          suppress_warnings=True,  # we don't want convergence warnings\n",
    "                          stepwise=True)           # set to stepwise\n",
    "\n",
    "stepwise_fit.summary()"
   ]
  },
  {
   "cell_type": "code",
   "execution_count": null,
   "id": "1badda44",
   "metadata": {
    "id": "1badda44",
    "outputId": "31aa90c6-58cf-49c7-9af5-48d06729a4de"
   },
   "outputs": [
    {
     "name": "stdout",
     "output_type": "stream",
     "text": [
      "(71955,)\n",
      "(23985,)\n"
     ]
    }
   ],
   "source": [
    "train=df['rain'].iloc[:-23985]\n",
    "test=df['rain'].iloc[-23985:]\n",
    "print(train.shape)\n",
    "print(test.shape)"
   ]
  },
  {
   "cell_type": "code",
   "execution_count": null,
   "id": "c8caf473",
   "metadata": {
    "id": "c8caf473",
    "outputId": "c8ec1595-d559-47d3-e6a4-10a2943410c4"
   },
   "outputs": [
    {
     "name": "stderr",
     "output_type": "stream",
     "text": [
      "C:\\Users\\user\\Anaconda3\\lib\\site-packages\\statsmodels\\tsa\\base\\tsa_model.py:581: ValueWarning: A date index has been provided, but it has no associated frequency information and so will be ignored when e.g. forecasting.\n",
      "  warnings.warn('A date index has been provided, but it has no'\n",
      "C:\\Users\\user\\Anaconda3\\lib\\site-packages\\statsmodels\\tsa\\base\\tsa_model.py:585: ValueWarning: A date index has been provided, but it is not monotonic and so will be ignored when e.g. forecasting.\n",
      "  warnings.warn('A date index has been provided, but it is not'\n",
      "C:\\Users\\user\\Anaconda3\\lib\\site-packages\\statsmodels\\tsa\\base\\tsa_model.py:581: ValueWarning: A date index has been provided, but it has no associated frequency information and so will be ignored when e.g. forecasting.\n",
      "  warnings.warn('A date index has been provided, but it has no'\n",
      "C:\\Users\\user\\Anaconda3\\lib\\site-packages\\statsmodels\\tsa\\base\\tsa_model.py:585: ValueWarning: A date index has been provided, but it is not monotonic and so will be ignored when e.g. forecasting.\n",
      "  warnings.warn('A date index has been provided, but it is not'\n"
     ]
    },
    {
     "data": {
      "text/html": [
       "<table class=\"simpletable\">\n",
       "<caption>ARIMA Model Results</caption>\n",
       "<tr>\n",
       "  <th>Dep. Variable:</th>      <td>D.rain</td>      <th>  No. Observations:  </th>    <td>71954</td>  \n",
       "</tr>\n",
       "<tr>\n",
       "  <th>Model:</th>          <td>ARIMA(5, 1, 0)</td>  <th>  Log Likelihood     </th>  <td>24763.426</td>\n",
       "</tr>\n",
       "<tr>\n",
       "  <th>Method:</th>             <td>css-mle</td>     <th>  S.D. of innovations</th>    <td>0.172</td>  \n",
       "</tr>\n",
       "<tr>\n",
       "  <th>Date:</th>          <td>Sun, 26 Sep 2021</td> <th>  AIC                </th> <td>-49512.851</td>\n",
       "</tr>\n",
       "<tr>\n",
       "  <th>Time:</th>              <td>06:38:37</td>     <th>  BIC                </th> <td>-49448.565</td>\n",
       "</tr>\n",
       "<tr>\n",
       "  <th>Sample:</th>                <td>1</td>        <th>  HQIC               </th> <td>-49493.049</td>\n",
       "</tr>\n",
       "<tr>\n",
       "  <th></th>                       <td> </td>        <th>                     </th>      <td> </td>    \n",
       "</tr>\n",
       "</table>\n",
       "<table class=\"simpletable\">\n",
       "<tr>\n",
       "        <td></td>          <th>coef</th>     <th>std err</th>      <th>z</th>      <th>P>|z|</th>  <th>[0.025</th>    <th>0.975]</th>  \n",
       "</tr>\n",
       "<tr>\n",
       "  <th>const</th>        <td>-2.649e-06</td> <td>    0.000</td> <td>   -0.015</td> <td> 0.988</td> <td>   -0.000</td> <td>    0.000</td>\n",
       "</tr>\n",
       "<tr>\n",
       "  <th>ar.L1.D.rain</th> <td>   -0.8337</td> <td>    0.004</td> <td> -226.963</td> <td> 0.000</td> <td>   -0.841</td> <td>   -0.826</td>\n",
       "</tr>\n",
       "<tr>\n",
       "  <th>ar.L2.D.rain</th> <td>   -0.6679</td> <td>    0.005</td> <td> -143.803</td> <td> 0.000</td> <td>   -0.677</td> <td>   -0.659</td>\n",
       "</tr>\n",
       "<tr>\n",
       "  <th>ar.L3.D.rain</th> <td>   -0.5017</td> <td>    0.005</td> <td> -101.823</td> <td> 0.000</td> <td>   -0.511</td> <td>   -0.492</td>\n",
       "</tr>\n",
       "<tr>\n",
       "  <th>ar.L4.D.rain</th> <td>   -0.3372</td> <td>    0.005</td> <td>  -72.582</td> <td> 0.000</td> <td>   -0.346</td> <td>   -0.328</td>\n",
       "</tr>\n",
       "<tr>\n",
       "  <th>ar.L5.D.rain</th> <td>   -0.1708</td> <td>    0.004</td> <td>  -46.485</td> <td> 0.000</td> <td>   -0.178</td> <td>   -0.164</td>\n",
       "</tr>\n",
       "</table>\n",
       "<table class=\"simpletable\">\n",
       "<caption>Roots</caption>\n",
       "<tr>\n",
       "    <td></td>   <th>            Real</th>  <th>         Imaginary</th> <th>         Modulus</th>  <th>        Frequency</th>\n",
       "</tr>\n",
       "<tr>\n",
       "  <th>AR.1</th> <td>           0.5540</td> <td>          -1.2474j</td> <td>           1.3649</td> <td>          -0.1835</td>\n",
       "</tr>\n",
       "<tr>\n",
       "  <th>AR.2</th> <td>           0.5540</td> <td>          +1.2474j</td> <td>           1.3649</td> <td>           0.1835</td>\n",
       "</tr>\n",
       "<tr>\n",
       "  <th>AR.3</th> <td>          -1.4841</td> <td>          -0.0000j</td> <td>           1.4841</td> <td>          -0.5000</td>\n",
       "</tr>\n",
       "<tr>\n",
       "  <th>AR.4</th> <td>          -0.7990</td> <td>          -1.2163j</td> <td>           1.4553</td> <td>          -0.3425</td>\n",
       "</tr>\n",
       "<tr>\n",
       "  <th>AR.5</th> <td>          -0.7990</td> <td>          +1.2163j</td> <td>           1.4553</td> <td>           0.3425</td>\n",
       "</tr>\n",
       "</table>"
      ],
      "text/plain": [
       "<class 'statsmodels.iolib.summary.Summary'>\n",
       "\"\"\"\n",
       "                             ARIMA Model Results                              \n",
       "==============================================================================\n",
       "Dep. Variable:                 D.rain   No. Observations:                71954\n",
       "Model:                 ARIMA(5, 1, 0)   Log Likelihood               24763.426\n",
       "Method:                       css-mle   S.D. of innovations              0.172\n",
       "Date:                Sun, 26 Sep 2021   AIC                         -49512.851\n",
       "Time:                        06:38:37   BIC                         -49448.565\n",
       "Sample:                             1   HQIC                        -49493.049\n",
       "                                                                              \n",
       "================================================================================\n",
       "                   coef    std err          z      P>|z|      [0.025      0.975]\n",
       "--------------------------------------------------------------------------------\n",
       "const        -2.649e-06      0.000     -0.015      0.988      -0.000       0.000\n",
       "ar.L1.D.rain    -0.8337      0.004   -226.963      0.000      -0.841      -0.826\n",
       "ar.L2.D.rain    -0.6679      0.005   -143.803      0.000      -0.677      -0.659\n",
       "ar.L3.D.rain    -0.5017      0.005   -101.823      0.000      -0.511      -0.492\n",
       "ar.L4.D.rain    -0.3372      0.005    -72.582      0.000      -0.346      -0.328\n",
       "ar.L5.D.rain    -0.1708      0.004    -46.485      0.000      -0.178      -0.164\n",
       "                                    Roots                                    \n",
       "=============================================================================\n",
       "                  Real          Imaginary           Modulus         Frequency\n",
       "-----------------------------------------------------------------------------\n",
       "AR.1            0.5540           -1.2474j            1.3649           -0.1835\n",
       "AR.2            0.5540           +1.2474j            1.3649            0.1835\n",
       "AR.3           -1.4841           -0.0000j            1.4841           -0.5000\n",
       "AR.4           -0.7990           -1.2163j            1.4553           -0.3425\n",
       "AR.5           -0.7990           +1.2163j            1.4553            0.3425\n",
       "-----------------------------------------------------------------------------\n",
       "\"\"\""
      ]
     },
     "execution_count": 24,
     "metadata": {},
     "output_type": "execute_result"
    }
   ],
   "source": [
    "d= ARIMA(train,order=(5,1,0))\n",
    "d=d.fit()\n",
    "d.summary()"
   ]
  },
  {
   "cell_type": "code",
   "execution_count": null,
   "id": "e0260db6",
   "metadata": {
    "id": "e0260db6",
    "outputId": "f41c1dc5-36c8-428d-fb27-11c50120bcb8"
   },
   "outputs": [
    {
     "name": "stderr",
     "output_type": "stream",
     "text": [
      "C:\\Users\\user\\Anaconda3\\lib\\site-packages\\statsmodels\\tsa\\base\\tsa_model.py:376: ValueWarning: No supported index is available. Prediction results will be given with an integer index beginning at `start`.\n",
      "  warnings.warn('No supported index is available.'\n",
      "C:\\Users\\user\\Anaconda3\\lib\\site-packages\\statsmodels\\tsa\\base\\tsa_model.py:376: ValueWarning: No supported index is available. Prediction results will be given with an integer index beginning at `start`.\n",
      "  warnings.warn('No supported index is available.'\n"
     ]
    },
    {
     "name": "stdout",
     "output_type": "stream",
     "text": [
      "71954   -0.000009\n",
      "71955   -0.000011\n",
      "71956   -0.000013\n",
      "71957   -0.000015\n",
      "71958   -0.000017\n",
      "           ...   \n",
      "95934   -0.063525\n",
      "95935   -0.063528\n",
      "95936   -0.063530\n",
      "95937   -0.063533\n",
      "95938   -0.063535\n",
      "Name: ARIMA(5,1,0) Predictions, Length: 23985, dtype: float64\n"
     ]
    }
   ],
   "source": [
    "start=len(train)\n",
    "end=len(train)+len(test)-1\n",
    "pred=d.predict(start=start,end=end,typ='levels').rename('ARIMA(5,1,0) Predictions')\n",
    "print(pred)"
   ]
  },
  {
   "cell_type": "code",
   "execution_count": null,
   "id": "75c68060",
   "metadata": {
    "id": "75c68060",
    "outputId": "eee33226-e2c1-47cf-8c1e-da00946b3b56"
   },
   "outputs": [
    {
     "data": {
      "text/plain": [
       "<AxesSubplot:xlabel='date'>"
      ]
     },
     "execution_count": 26,
     "metadata": {},
     "output_type": "execute_result"
    },
    {
     "data": {
      "image/png": "[encoded data removed]",
      "text/plain": [
       "<Figure size 864x720 with 1 Axes>"
      ]
     },
     "metadata": {
      "needs_background": "light"
     },
     "output_type": "display_data"
    }
   ],
   "source": [
    "pred.plot(legend=True)\n",
    "test.plot(legend=True)"
   ]
  },
  {
   "cell_type": "code",
   "execution_count": null,
   "id": "76fe8a6d",
   "metadata": {
    "id": "76fe8a6d",
    "outputId": "f69bf0b7-1f5a-43a5-9f94-6503bb8433c1"
   },
   "outputs": [
    {
     "name": "stdout",
     "output_type": "stream",
     "text": [
      "ARIMA(5,1,0) MSE Error: 0.03023191824\n"
     ]
    }
   ],
   "source": [
    "from sklearn.metrics import mean_squared_error\n",
    "\n",
    "error = mean_squared_error(test, pred)\n",
    "print(f'ARIMA(5,1,0) MSE Error: {error:11.10}')"
   ]
  },
  {
   "cell_type": "code",
   "execution_count": null,
   "id": "2c98a06f",
   "metadata": {
    "id": "2c98a06f",
    "outputId": "0afa308e-ac68-4a9a-b875-be900ffd0b7a"
   },
   "outputs": [
    {
     "name": "stdout",
     "output_type": "stream",
     "text": [
      "ARIMA(5,1,0) RMSE Error: 0.1738732821\n"
     ]
    }
   ],
   "source": [
    "from statsmodels.tools.eval_measures import rmse\n",
    "\n",
    "error = rmse(test, pred)\n",
    "print(f'ARIMA(5,1,0) RMSE Error: {error:11.10}')"
   ]
  },
  {
   "cell_type": "markdown",
   "id": "bc91d4a1",
   "metadata": {
    "id": "bc91d4a1"
   },
   "source": [
    "#### LSTM"
   ]
  },
  {
   "cell_type": "code",
   "execution_count": null,
   "id": "4d408c72",
   "metadata": {
    "id": "4d408c72"
   },
   "outputs": [],
   "source": [
    "from keras.layers import Bidirectional,LSTM,Dense,Flatten,Conv1D,MaxPooling1D,Dropout,RepeatVector\n",
    "from keras.models import Sequential\n",
    "from keras.callbacks import EarlyStopping,ReduceLROnPlateau\n",
    "\n",
    "early_stop=EarlyStopping(monitor='loss',patience=5)"
   ]
  },
  {
   "cell_type": "code",
   "execution_count": null,
   "id": "c7cd0400",
   "metadata": {
    "id": "c7cd0400"
   },
   "outputs": [],
   "source": [
    "model=Sequential([Conv1D(100,kernel_size=3,input_shape=(30,1),activation='relu'),\n",
    "                  Conv1D(100,kernel_size=3),\n",
    "                  Conv1D(100,kernel_size=3),\n",
    "                  MaxPooling1D(2),\n",
    "                 Flatten(),\n",
    "                  RepeatVector(30),\n",
    "                 LSTM(128,activation='relu',return_sequences=True),\n",
    "                 LSTM(128,activation='relu',return_sequences=True),\n",
    "                  Bidirectional(LSTM(64,activation='relu')),\n",
    "                 Dense(128,activation='relu'),\n",
    "                 Dense(1)])\n",
    "\n",
    "model.compile(optimizer='adam',loss='mse',metrics=['accuracy'])"
   ]
  },
  {
   "cell_type": "code",
   "execution_count": null,
   "id": "4e4fbde6",
   "metadata": {
    "id": "4e4fbde6"
   },
   "outputs": [],
   "source": [
    "from sklearn.preprocessing import StandardScaler\n",
    "\n",
    "scaler=StandardScaler()"
   ]
  },
  {
   "cell_type": "code",
   "execution_count": null,
   "id": "5d84640f",
   "metadata": {
    "id": "5d84640f",
    "outputId": "ac489b4a-f333-4369-d133-8654e7a5ab27"
   },
   "outputs": [
    {
     "data": {
      "text/plain": [
       "rain    7649\n",
       "dtype: int64"
      ]
     },
     "execution_count": 32,
     "metadata": {},
     "output_type": "execute_result"
    }
   ],
   "source": [
    "df1=df_r.resample('D').mean()\n",
    "df1.isnull().sum()"
   ]
  },
  {
   "cell_type": "code",
   "execution_count": null,
   "id": "c837c2dc",
   "metadata": {
    "id": "c837c2dc",
    "outputId": "a9ce7200-af30-443d-d705-68fe79dd2a25"
   },
   "outputs": [
    {
     "data": {
      "text/plain": [
       "rain    0\n",
       "dtype: int64"
      ]
     },
     "execution_count": 34,
     "metadata": {},
     "output_type": "execute_result"
    }
   ],
   "source": [
    "df1['rain'].fillna(df1['rain'].mean(),inplace=True)\n",
    "df1.isnull().sum()"
   ]
  },
  {
   "cell_type": "code",
   "execution_count": null,
   "id": "db27eaee",
   "metadata": {
    "id": "db27eaee",
    "outputId": "b9cde1f2-c6af-4ea3-cc76-52869507ab77"
   },
   "outputs": [
    {
     "data": {
      "text/plain": [
       "5753.25"
      ]
     },
     "execution_count": 37,
     "metadata": {},
     "output_type": "execute_result"
    }
   ],
   "source": [
    "df1.shape\n",
    "\n",
    "7671*0.75"
   ]
  },
  {
   "cell_type": "code",
   "execution_count": null,
   "id": "dd169fe1",
   "metadata": {
    "id": "dd169fe1"
   },
   "outputs": [],
   "source": [
    "train = df1.iloc[:5753]\n",
    "test = df1.iloc[5753:]"
   ]
  },
  {
   "cell_type": "code",
   "execution_count": null,
   "id": "42360e92",
   "metadata": {
    "id": "42360e92"
   },
   "outputs": [],
   "source": [
    "scaler.fit(train)\n",
    "scaled_train=scaler.transform(train)\n",
    "scaled_test= scaler.transform(test)"
   ]
  },
  {
   "cell_type": "code",
   "execution_count": null,
   "id": "a08c9732",
   "metadata": {
    "id": "a08c9732"
   },
   "outputs": [],
   "source": [
    "from keras.preprocessing.sequence import TimeseriesGenerator"
   ]
  },
  {
   "cell_type": "code",
   "execution_count": null,
   "id": "9c20189e",
   "metadata": {
    "id": "9c20189e"
   },
   "outputs": [],
   "source": [
    "# define generator\n",
    "n_input = 30\n",
    "n_features = 1\n",
    "generator = TimeseriesGenerator(scaled_train, scaled_train, length=n_input, batch_size=1)"
   ]
  },
  {
   "cell_type": "code",
   "execution_count": null,
   "id": "189b8e8e",
   "metadata": {
    "id": "189b8e8e"
   },
   "outputs": [],
   "source": [
    "# What does the first batch look like?\n",
    "X,y = generator[0]"
   ]
  },
  {
   "cell_type": "code",
   "execution_count": null,
   "id": "5ac2ca3f",
   "metadata": {
    "id": "5ac2ca3f",
    "outputId": "54635f7a-14a4-4af6-b533-dabbd8e1f5fd"
   },
   "outputs": [
    {
     "name": "stdout",
     "output_type": "stream",
     "text": [
      "Given the Array: \n",
      "[-4.00529095e+01  7.39960828e-04  7.39960828e-04  7.39960828e-04\n",
      "  7.39960828e-04  7.39960828e-04  7.39960828e-04  7.39960828e-04\n",
      "  7.39960828e-04  7.39960828e-04  7.39960828e-04  7.39960828e-04\n",
      "  7.39960828e-04  7.39960828e-04  7.39960828e-04  7.39960828e-04\n",
      "  7.39960828e-04  7.39960828e-04  7.39960828e-04  7.39960828e-04\n",
      "  7.39960828e-04  7.39960828e-04  7.39960828e-04  7.39960828e-04\n",
      "  7.39960828e-04  7.39960828e-04  7.39960828e-04  7.39960828e-04\n",
      "  7.39960828e-04  7.39960828e-04]\n",
      "Predict this y: \n",
      " [[0.00073996]]\n"
     ]
    }
   ],
   "source": [
    "print(f'Given the Array: \\n{X.flatten()}')\n",
    "print(f'Predict this y: \\n {y}')"
   ]
  },
  {
   "cell_type": "code",
   "execution_count": null,
   "id": "67fada36",
   "metadata": {
    "id": "67fada36",
    "outputId": "98cce29a-ddfb-4940-8484-d528a24b6a14"
   },
   "outputs": [
    {
     "name": "stdout",
     "output_type": "stream",
     "text": [
      "Model: \"sequential_1\"\n",
      "_________________________________________________________________\n",
      "Layer (type)                 Output Shape              Param #   \n",
      "=================================================================\n",
      "lstm_3 (LSTM)                (None, 30, 32)            4352      \n",
      "_________________________________________________________________\n",
      "lstm_4 (LSTM)                (None, 30, 32)            8320      \n",
      "_________________________________________________________________\n",
      "lstm_5 (LSTM)                (None, 32)                8320      \n",
      "_________________________________________________________________\n",
      "dense_2 (Dense)              (None, 1)                 33        \n",
      "=================================================================\n",
      "Total params: 21,025\n",
      "Trainable params: 21,025\n",
      "Non-trainable params: 0\n",
      "_________________________________________________________________\n"
     ]
    }
   ],
   "source": [
    "from keras.models import Sequential\n",
    "from keras.layers import Dense\n",
    "from keras.layers import LSTM\n",
    "\n",
    "model = Sequential()\n",
    "\n",
    "model.add(LSTM(32,activation = 'relu', input_shape= (n_input, n_features), return_sequences=True))\n",
    "model.add(LSTM(32, activation='relu', return_sequences=True))\n",
    "model.add(LSTM(32, activation='sigmoid', return_sequences=False))\n",
    "model.add(Dense(1))\n",
    "model.compile(optimizer='adam', loss='mse')\n",
    "\n",
    "model.summary()"
   ]
  },
  {
   "cell_type": "code",
   "execution_count": null,
   "id": "7a98eda0",
   "metadata": {
    "id": "7a98eda0",
    "outputId": "1bdf32de-5368-44ba-df5e-e09863ab5785"
   },
   "outputs": [
    {
     "name": "stdout",
     "output_type": "stream",
     "text": [
      "WARNING:tensorflow:From <ipython-input-45-bfe64445a7b0>:2: Model.fit_generator (from tensorflow.python.keras.engine.training) is deprecated and will be removed in a future version.\n",
      "Instructions for updating:\n",
      "Please use Model.fit, which supports generators.\n",
      "Epoch 1/50\n",
      "5723/5723 [==============================] - 209s 37ms/step - loss: 0.73412s -  - ETA: 1s - loss: 0.7\n",
      "Epoch 2/50\n",
      "5723/5723 [==============================] - 201s 35ms/step - loss: 0.72800s - loss: 0\n",
      "Epoch 5/50\n",
      "5723/5723 [==============================] - 214s 37ms/step - loss: 0.7268\n",
      "Epoch 6/50\n",
      "5723/5723 [==============================] - 188s 33ms/step - loss: 0.7275\n",
      "Epoch 7/50\n",
      "5723/5723 [==============================] - 210s 37ms/step - loss: 0.7269\n",
      "Epoch 8/50\n",
      "5723/5723 [==============================] - 189s 33ms/step - loss: 0.7283\n",
      "Epoch 10/50\n",
      "5723/5723 [==============================] - 211s 37ms/step - loss: 0.7281\n",
      "Epoch 12/50\n",
      "5723/5723 [==============================] - 184s 32ms/step - loss: 0.72711s - loss - ETA: 0s - los\n",
      "Epoch 13/50\n",
      "5723/5723 [==============================] - 181s 32ms/step - loss: 0.7274\n",
      "Epoch 14/50\n",
      "5723/5723 [==============================] - 120s 21ms/step - loss: 0.7277\n",
      "Epoch 15/50\n",
      "5723/5723 [==============================] - 124s 22ms/step - loss: 0.7276\n",
      "Epoch 16/50\n",
      "5723/5723 [==============================] - 123s 21ms/step - loss: 0.7282\n",
      "Epoch 17/50\n",
      "5723/5723 [==============================] - 121s 21ms/step - loss: 0.7280\n",
      "Epoch 18/50\n",
      "5723/5723 [==============================] - 120s 21ms/step - loss: 0.7280\n",
      "Epoch 19/50\n",
      "5723/5723 [==============================] - 126s 22ms/step - loss: 0.7283\n",
      "Epoch 20/50\n",
      "5723/5723 [==============================] - 140s 25ms/step - loss: 0.7274ETA:\n",
      "Epoch 21/50\n",
      "5723/5723 [==============================] - 136s 24ms/step - loss: 0.7287\n",
      "Epoch 22/50\n",
      "5723/5723 [==============================] - 140s 25ms/step - loss: 0.7284\n",
      "Epoch 23/50\n",
      "5723/5723 [==============================] - 153s 27ms/step - loss: 0.7287\n",
      "Epoch 24/50\n",
      "5723/5723 [==============================] - 164s 29ms/step - loss: 0.7269\n",
      "Epoch 25/50\n",
      "5723/5723 [==============================] - 150s 26ms/step - loss: 0.7268\n",
      "Epoch 26/50\n",
      "5723/5723 [==============================] - 124s 22ms/step - loss: 0.7277\n",
      "Epoch 27/50\n",
      "5723/5723 [==============================] - 113s 20ms/step - loss: 0.7269\n",
      "Epoch 28/50\n",
      "5723/5723 [==============================] - 118s 21ms/step - loss: 0.7274\n",
      "Epoch 29/50\n",
      "5723/5723 [==============================] - 120s 21ms/step - loss: 0.7279\n",
      "Epoch 30/50\n",
      "5723/5723 [==============================] - 122s 21ms/step - loss: 0.7277\n",
      "Epoch 31/50\n",
      "5723/5723 [==============================] - 121s 21ms/step - loss: 0.7276\n",
      "Epoch 32/50\n",
      "5723/5723 [==============================] - 120s 21ms/step - loss: 0.7274\n",
      "Epoch 33/50\n",
      "5723/5723 [==============================] - 116s 20ms/step - loss: 0.7273\n",
      "Epoch 34/50\n",
      "5723/5723 [==============================] - 117s 20ms/step - loss: 0.7276\n",
      "Epoch 35/50\n",
      "5723/5723 [==============================] - 116s 20ms/step - loss: 0.7268\n",
      "Epoch 36/50\n",
      "5723/5723 [==============================] - 112s 20ms/step - loss: 0.7278\n",
      "Epoch 37/50\n",
      "5723/5723 [==============================] - 116s 20ms/step - loss: 0.7272\n",
      "Epoch 38/50\n",
      "5723/5723 [==============================] - 116s 20ms/step - loss: 0.7267\n",
      "Epoch 39/50\n",
      "5723/5723 [==============================] - 115s 20ms/step - loss: 0.7281\n",
      "Epoch 40/50\n",
      "5723/5723 [==============================] - 117s 20ms/step - loss: 0.7283\n",
      "Epoch 41/50\n",
      "5723/5723 [==============================] - 118s 21ms/step - loss: 0.7284\n",
      "Epoch 42/50\n",
      "5723/5723 [==============================] - 118s 21ms/step - loss: 0.7281\n",
      "Epoch 43/50\n",
      "5723/5723 [==============================] - 109s 19ms/step - loss: 0.7281\n",
      "Epoch 44/50\n",
      "5723/5723 [==============================] - 113s 20ms/step - loss: 0.7276\n",
      "Epoch 45/50\n",
      "5723/5723 [==============================] - 132s 23ms/step - loss: 0.7274\n",
      "Epoch 46/50\n",
      "5723/5723 [==============================] - 125s 22ms/step - loss: 0.7275\n",
      "Epoch 47/50\n",
      "5723/5723 [==============================] - 112s 20ms/step - loss: 0.7273\n",
      "Epoch 48/50\n",
      "5723/5723 [==============================] - 111s 19ms/step - loss: 0.7263\n",
      "Epoch 49/50\n",
      "5723/5723 [==============================] - 109s 19ms/step - loss: 0.7276\n",
      "Epoch 50/50\n",
      "5723/5723 [==============================] - 124s 22ms/step - loss: 0.7277\n"
     ]
    },
    {
     "data": {
      "text/plain": [
       "<tensorflow.python.keras.callbacks.History at 0x27d86123bb0>"
      ]
     },
     "execution_count": 45,
     "metadata": {},
     "output_type": "execute_result"
    }
   ],
   "source": [
    "# fit model\n",
    "model.fit_generator(generator,epochs=50)"
   ]
  },
  {
   "cell_type": "code",
   "execution_count": null,
   "id": "0869d61f",
   "metadata": {
    "id": "0869d61f",
    "outputId": "009ef8cf-6f4f-4010-a19e-3ecd59e15500"
   },
   "outputs": [
    {
     "data": {
      "text/plain": [
       "dict_keys(['loss'])"
      ]
     },
     "execution_count": 46,
     "metadata": {},
     "output_type": "execute_result"
    }
   ],
   "source": [
    "model.history.history.keys()"
   ]
  },
  {
   "cell_type": "code",
   "execution_count": null,
   "id": "cce83076",
   "metadata": {
    "id": "cce83076",
    "outputId": "c07a9105-57c1-4228-ac1a-23af399fc967"
   },
   "outputs": [
    {
     "data": {
      "text/plain": [
       "[<matplotlib.lines.Line2D at 0x27d8706c5e0>]"
      ]
     },
     "execution_count": 47,
     "metadata": {},
     "output_type": "execute_result"
    },
    {
     "data": {
      "image/png": "[encoded data removed]",
      "text/plain": [
       "<Figure size 864x720 with 1 Axes>"
      ]
     },
     "metadata": {
      "needs_background": "light"
     },
     "output_type": "display_data"
    }
   ],
   "source": [
    "loss_per_epoch = model.history.history['loss']\n",
    "plt.plot(range(len(loss_per_epoch)),loss_per_epoch)"
   ]
  },
  {
   "cell_type": "code",
   "execution_count": null,
   "id": "1ac0c831",
   "metadata": {
    "id": "1ac0c831"
   },
   "outputs": [],
   "source": []
  },
  {
   "cell_type": "code",
   "execution_count": null,
   "id": "c68bb9be",
   "metadata": {
    "id": "c68bb9be"
   },
   "outputs": [],
   "source": [
    "first_eval_batch = scaled_train[-30:]"
   ]
  },
  {
   "cell_type": "code",
   "execution_count": null,
   "id": "02165df2",
   "metadata": {
    "id": "02165df2"
   },
   "outputs": [],
   "source": [
    "first_eval_batch = first_eval_batch.reshape((1, n_input, n_features))"
   ]
  },
  {
   "cell_type": "code",
   "execution_count": null,
   "id": "60162383",
   "metadata": {
    "id": "60162383",
    "outputId": "21140d62-395c-476e-9589-03d713c8abf3"
   },
   "outputs": [
    {
     "data": {
      "text/plain": [
       "array([0.00073996])"
      ]
     },
     "execution_count": 52,
     "metadata": {},
     "output_type": "execute_result"
    }
   ],
   "source": [
    "model.predict(first_eval_batch)\n",
    "scaled_test[0]"
   ]
  },
  {
   "cell_type": "code",
   "execution_count": null,
   "id": "52e3a7f9",
   "metadata": {
    "id": "52e3a7f9"
   },
   "outputs": [],
   "source": [
    "test_predictions = []\n",
    "\n",
    "first_eval_batch = scaled_train[-n_input:]\n",
    "current_batch = first_eval_batch.reshape((1, n_input, n_features))"
   ]
  },
  {
   "cell_type": "code",
   "execution_count": null,
   "id": "cb851433",
   "metadata": {
    "id": "cb851433",
    "outputId": "0f13f487-d9e7-443a-fcad-02bef816a193"
   },
   "outputs": [
    {
     "data": {
      "text/plain": [
       "array([[[7.39960828e-04],\n",
       "        [7.39960828e-04],\n",
       "        [7.39960828e-04],\n",
       "        [7.39960828e-04],\n",
       "        [7.39960828e-04],\n",
       "        [7.39960828e-04],\n",
       "        [7.39960828e-04],\n",
       "        [7.39960828e-04],\n",
       "        [7.39960828e-04],\n",
       "        [7.39960828e-04],\n",
       "        [7.39960828e-04],\n",
       "        [7.39960828e-04],\n",
       "        [7.39960828e-04],\n",
       "        [7.39960828e-04],\n",
       "        [7.39960828e-04],\n",
       "        [7.39960828e-04],\n",
       "        [7.39960828e-04],\n",
       "        [7.39960828e-04],\n",
       "        [7.39960828e-04],\n",
       "        [7.39960828e-04],\n",
       "        [7.39960828e-04],\n",
       "        [7.39960828e-04],\n",
       "        [7.39960828e-04],\n",
       "        [7.39960828e-04],\n",
       "        [7.39960828e-04],\n",
       "        [7.39960828e-04],\n",
       "        [7.39960828e-04],\n",
       "        [7.39960828e-04],\n",
       "        [7.39960828e-04],\n",
       "        [9.90000000e+01]]])"
      ]
     },
     "execution_count": 54,
     "metadata": {},
     "output_type": "execute_result"
    }
   ],
   "source": [
    "np.append(current_batch[:,1:,:],[[[99]]],axis=1)"
   ]
  },
  {
   "cell_type": "code",
   "execution_count": null,
   "id": "157d737d",
   "metadata": {
    "id": "157d737d"
   },
   "outputs": [],
   "source": [
    "test_predictions = []\n",
    "\n",
    "first_eval_batch = scaled_train[-n_input:]\n",
    "current_batch = first_eval_batch.reshape((1, n_input, n_features))\n",
    "\n",
    "for i in range(len(test)):\n",
    "    \n",
    "    # get prediction 1 time stamp ahead ([0] is for grabbing just the number instead of [array])\n",
    "    current_pred = model.predict(current_batch)[0]\n",
    "    \n",
    "    # store prediction\n",
    "    test_predictions.append(current_pred) \n",
    "    \n",
    "    # update batch to now include prediction and drop first value\n",
    "    current_batch = np.append(current_batch[:,1:,:],[[current_pred]],axis=1)"
   ]
  },
  {
   "cell_type": "code",
   "execution_count": null,
   "id": "bf35a37c",
   "metadata": {
    "id": "bf35a37c"
   },
   "outputs": [],
   "source": []
  },
  {
   "cell_type": "code",
   "execution_count": null,
   "id": "c71f25a0",
   "metadata": {
    "id": "c71f25a0"
   },
   "outputs": [],
   "source": [
    "true_predictions = scaler.inverse_transform(test_predictions)\n",
    "# IGNORE WARNINGS\n",
    "test['Predictions'] = true_predictions"
   ]
  },
  {
   "cell_type": "code",
   "execution_count": null,
   "id": "7216a7d2",
   "metadata": {
    "id": "7216a7d2",
    "outputId": "6a568d73-ba59-49eb-8ece-38887b0104f5"
   },
   "outputs": [
    {
     "data": {
      "text/plain": [
       "<AxesSubplot:xlabel='date'>"
      ]
     },
     "execution_count": 57,
     "metadata": {},
     "output_type": "execute_result"
    },
    {
     "data": {
      "image/png": "[encoded data removed]",
      "text/plain": [
       "<Figure size 864x576 with 1 Axes>"
      ]
     },
     "metadata": {
      "needs_background": "light"
     },
     "output_type": "display_data"
    }
   ],
   "source": [
    "test.plot(figsize=(12,8))"
   ]
  },
  {
   "cell_type": "code",
   "execution_count": null,
   "id": "ab0b3684",
   "metadata": {
    "id": "ab0b3684"
   },
   "outputs": [],
   "source": []
  },
  {
   "cell_type": "code",
   "execution_count": null,
   "id": "031ab826",
   "metadata": {
    "id": "031ab826"
   },
   "outputs": [],
   "source": []
  },
  {
   "cell_type": "code",
   "execution_count": null,
   "id": "194fb904",
   "metadata": {
    "id": "194fb904"
   },
   "outputs": [],
   "source": []
  },
  {
   "cell_type": "code",
   "execution_count": null,
   "id": "bdfc255a",
   "metadata": {
    "id": "bdfc255a"
   },
   "outputs": [],
   "source": []
  },
  {
   "cell_type": "code",
   "execution_count": null,
   "id": "db7ccb04",
   "metadata": {
    "id": "db7ccb04"
   },
   "outputs": [],
   "source": []
  }
 ],
 "metadata": {
  "colab": {
   "name": "Delhi_rain_prediction.ipynb",
   "provenance": []
  },
  "kernelspec": {
   "display_name": "Python 3 (ipykernel)",
   "language": "python",
   "name": "python3"
  },
  "language_info": {
   "codemirror_mode": {
    "name": "ipython",
    "version": 3
   },
   "file_extension": ".py",
   "mimetype": "text/x-python",
   "name": "python",
   "nbconvert_exporter": "python",
   "pygments_lexer": "ipython3",
   "version": "3.9.12"
  }
 },
 "nbformat": 4,
 "nbformat_minor": 5
}
